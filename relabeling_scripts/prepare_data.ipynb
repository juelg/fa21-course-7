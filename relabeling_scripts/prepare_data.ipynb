{
 "cells": [
  {
   "cell_type": "code",
   "execution_count": 15,
   "id": "96b6d44a",
   "metadata": {},
   "outputs": [],
   "source": [
    "# needs to be changed\n",
    "src = \"/home/tobi/fa/driving_log.csv\"\n",
    "dst = \"/home/tobi/fa/prep/{}_{}_{}.png\""
   ]
  },
  {
   "cell_type": "code",
   "execution_count": 6,
   "id": "f0502559",
   "metadata": {},
   "outputs": [],
   "source": [
    "# read\n",
    "with open(src, \"r\") as f:\n",
    "    csv_data = [i.split(\",\") for i in f.read().split(\"\\n\")]"
   ]
  },
  {
   "cell_type": "code",
   "execution_count": 14,
   "id": "5960d7ca",
   "metadata": {},
   "outputs": [],
   "source": [
    "# write\n",
    "for idx, i in enumerate(csv_data):\n",
    "    if i[0] == \"\":\n",
    "        break\n",
    "    with open(i[0], \"rb\") as f:\n",
    "        data = f.read()\n",
    "    speed = int(float(i[6])*1000)\n",
    "    angle = int(float(i[3])*1000)\n",
    "    with open(dst.format(idx, speed, angle), \"wb\") as f:\n",
    "        f.write(data)"
   ]
  }
 ],
 "metadata": {
  "kernelspec": {
   "display_name": "Python 3 (ipykernel)",
   "language": "python",
   "name": "python3"
  },
  "language_info": {
   "codemirror_mode": {
    "name": "ipython",
    "version": 3
   },
   "file_extension": ".py",
   "mimetype": "text/x-python",
   "name": "python",
   "nbconvert_exporter": "python",
   "pygments_lexer": "ipython3",
   "version": "3.9.7"
  }
 },
 "nbformat": 4,
 "nbformat_minor": 5
}
